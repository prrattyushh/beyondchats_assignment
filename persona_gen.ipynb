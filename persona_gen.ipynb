{
  "cells": [
    {
      "cell_type": "markdown",
      "source": [
        "Setup & Imports"
      ],
      "metadata": {
        "id": "BsY5SKQMLGpT"
      }
    },
    {
      "cell_type": "code",
      "execution_count": null,
      "metadata": {
        "colab": {
          "base_uri": "https://localhost:8080/"
        },
        "id": "SQ9uwSjy1G8T",
        "outputId": "e1a4c34a-6558-4fd6-d6a9-bfd23e2255c9"
      },
      "outputs": [
        {
          "output_type": "stream",
          "name": "stdout",
          "text": [
            "Requirement already satisfied: praw in /usr/local/lib/python3.11/dist-packages (7.8.1)\n",
            "Requirement already satisfied: requests in /usr/local/lib/python3.11/dist-packages (2.32.3)\n",
            "Requirement already satisfied: prawcore<3,>=2.4 in /usr/local/lib/python3.11/dist-packages (from praw) (2.4.0)\n",
            "Requirement already satisfied: update_checker>=0.18 in /usr/local/lib/python3.11/dist-packages (from praw) (0.18.0)\n",
            "Requirement already satisfied: websocket-client>=0.54.0 in /usr/local/lib/python3.11/dist-packages (from praw) (1.8.0)\n",
            "Requirement already satisfied: charset-normalizer<4,>=2 in /usr/local/lib/python3.11/dist-packages (from requests) (3.4.2)\n",
            "Requirement already satisfied: idna<4,>=2.5 in /usr/local/lib/python3.11/dist-packages (from requests) (3.10)\n",
            "Requirement already satisfied: urllib3<3,>=1.21.1 in /usr/local/lib/python3.11/dist-packages (from requests) (2.4.0)\n",
            "Requirement already satisfied: certifi>=2017.4.17 in /usr/local/lib/python3.11/dist-packages (from requests) (2025.7.9)\n"
          ]
        }
      ],
      "source": [
        "!pip install praw requests\n",
        "import time\n",
        "import praw\n",
        "import requests"
      ]
    },
    {
      "cell_type": "markdown",
      "source": [
        " Reddit API Initialization"
      ],
      "metadata": {
        "id": "uUjBxTwsLIgY"
      }
    },
    {
      "cell_type": "code",
      "execution_count": 45,
      "metadata": {
        "id": "Ua9_niyJ1a1h"
      },
      "outputs": [],
      "source": [
        "# ✅ OpenRouter API key\n",
        "OPENROUTER_API_KEY = (\n",
        "    \"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\"\n",
        ")\n",
        "\n",
        "# ✅ Reddit API credentials (via PRAW)\n",
        "reddit = praw.Reddit(\n",
        "    client_id=\"5uBZvIgTKH5uE_jEJPIUeQ\",\n",
        "    client_secret=\"Tr8C5flzhU81yzryqWT7aL8XOtBxpQ\",\n",
        "    user_agent=\"u/Zealousideal_Wafer84\"\n",
        ")\n"
      ]
    },
    {
      "cell_type": "markdown",
      "source": [
        "Fetch Reddit Posts & Comments"
      ],
      "metadata": {
        "id": "QpAnbXO1LN0P"
      }
    },
    {
      "cell_type": "code",
      "execution_count": 46,
      "metadata": {
        "id": "St0Met9A1gUm"
      },
      "outputs": [],
      "source": [
        "def get_reddit_data(username, limit=30):\n",
        "    \"\"\"\n",
        "    Fetch a Reddit user's most recent posts and comments.\n",
        "\n",
        "    Returns:\n",
        "        List[str]: Combined list of formatted posts and comments.\n",
        "    \"\"\"\n",
        "    try:\n",
        "        user = reddit.redditor(username)\n",
        "\n",
        "        posts = [\n",
        "            f\"[POST] {submission.title}\"\n",
        "            for submission in user.submissions.new(limit=limit)\n",
        "        ]\n",
        "\n",
        "        comments = [\n",
        "            f\"[COMMENT] {comment.body}\"\n",
        "            for comment in user.comments.new(limit=limit)\n",
        "        ]\n",
        "\n",
        "        return posts + comments\n",
        "\n",
        "    except Exception as err:\n",
        "        print(\"❌ Error fetching Reddit data:\", err)\n",
        "        return []\n"
      ]
    },
    {
      "cell_type": "markdown",
      "source": [
        "Prompt Construction"
      ],
      "metadata": {
        "id": "DX29B8zVLWqh"
      }
    },
    {
      "cell_type": "code",
      "execution_count": 47,
      "metadata": {
        "id": "ayFHS3yM1mWb"
      },
      "outputs": [],
      "source": [
        "def build_prompt(username, reddit_data):\n",
        "    \"\"\"\n",
        "    Construct a structured UX-style LLM prompt from Reddit activity.\n",
        "\n",
        "    Includes detailed formatting instructions for the model to return\n",
        "    a user persona with behavioral sliders, motivations, goals, etc.\n",
        "    \"\"\"\n",
        "    joined_data = \"\\n\".join(reddit_data[:40])[:5000]\n",
        "\n",
        "    prompt = f\"\"\"\n",
        "You are a UX researcher creating user personas from Reddit activity.\n",
        "\n",
        "Format the output to follow this structure and style.\n",
        "Use bullet points and citation quotes to explain each insight.\n",
        "If a fictional name cannot be inferred, default to the Reddit username: **{username}**\n",
        "\n",
        "When presenting sliders (personality, motivations), use **visual bars**\n",
        "made of characters (e.g. ▓▓▓░░░ 60%).\n",
        "\n",
        "---\n",
        "\n",
        "👤 **Name**:\n",
        "real name based on comments. If none can be inferred, use: **{username}**\n",
        "\n",
        "**Age Range**:\n",
        "Estimate from context as close as possible (e.g. student, professional)\n",
        "\n",
        "**Occupation**:\n",
        "Inferred from tech interest, casual tone, or job-related phrases\n",
        "\n",
        "**Status**:\n",
        "(Optional – relationship/family indicators)\n",
        "\n",
        "**Location**:\n",
        "Infer from mentions of place or cultural context (e.g. Himachal, US, India)\n",
        "\n",
        "**Tier**:\n",
        "Early Adopter, Laggard, etc.\n",
        "\n",
        "**Archetype**:\n",
        "(e.g. The Skeptical Optimist, The Meme Monk, The Practical Tinkerer)\n",
        "\n",
        "---\n",
        "\n",
        "### 🧭 Personality Sliders\n",
        "Use visual bars (like ▓ or █) and 0–100% estimates with short justifications. Example:\n",
        "\n",
        "- **Introvert ↔ Extrovert**: ▓▓▓▓░░░░░ (40%)\n",
        "  *\"Posts infrequently and prefers comments to threads.\"*\n",
        "\n",
        "- **Intuition ↔ Sensing**: ▓▓▓▓▓▓▓░░ (70%)\n",
        "  *\"Focuses on ideas, metaphors, and broader meaning.\"*\n",
        "\n",
        "---\n",
        "\n",
        "### 🎯 Motivations\n",
        "Pick 4–6 motivations. For each:\n",
        "- Name\n",
        "- Intensity shown with visual bar (e.g. ▓▓▓▓▓▓░░ 75%)\n",
        "- 1–2 Reddit quotes as evidence\n",
        "\n",
        "---\n",
        "\n",
        "### 🌀 Behaviours & Habits\n",
        "4–6 bullet points, each with a matching quote. Examples:\n",
        "\n",
        "- Shares screenshots of hikes or photos → *\"Evening stroll. [4160x2340]\"*\n",
        "- Fixes SDK paths, updates Android configs → *\"Update: changed ANDROID_HOME...\"*\n",
        "\n",
        "---\n",
        "\n",
        "### 😤 Frustrations\n",
        "3–5 frustrations. Include emotional tone + a quote for each.\n",
        "\n",
        "---\n",
        "\n",
        "### ✅ Goals & Needs\n",
        "3–4 forward-facing goals inferred from struggles or desires.\n",
        "No fluff — match with quotes if possible.\n",
        "\n",
        "---\n",
        "\n",
        "### 💬 Hero Quote\n",
        "Choose a humorous, self-aware, or emotional quote from the user that sums them up.\n",
        "Format:\n",
        "> \"quote here\"\n",
        "\n",
        "---\n",
        "\n",
        "### 📚 Topics Discussed\n",
        "Bullet points of recurring themes (e.g. Memes, Android SDK, Hiking, Java)\n",
        "\n",
        "---\n",
        "\n",
        "### 📌 Summary\n",
        "Conclude with 2–3 lines that summarize who this person is, their vibe,\n",
        "and what stands out.\n",
        "\n",
        "---\n",
        "\n",
        "Reddit content (posts and comments) from user u/{username}:\n",
        "\n",
        "{joined_data}\n",
        "\"\"\"\n",
        "\n",
        "    return prompt\n"
      ]
    },
    {
      "cell_type": "markdown",
      "source": [
        "Generate Persona"
      ],
      "metadata": {
        "id": "TcRXIbErL7-y"
      }
    },
    {
      "cell_type": "code",
      "execution_count": 44,
      "metadata": {
        "id": "7AIJucTm1w-R"
      },
      "outputs": [],
      "source": [
        "# ✅ Define your API key at the top of your script, not inside the function\n",
        "OPENROUTER_API_KEY = \"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\"\n",
        "\n",
        "\n",
        "def generate_persona(prompt, retries=2):\n",
        "    \"\"\"\n",
        "    Generate persona using OpenRouter API with retry logic.\n",
        "    Uses the free MoonshotAI Kimi K2 model.\n",
        "    \"\"\"\n",
        "    url = \"https://openrouter.ai/api/v1/chat/completions\"\n",
        "\n",
        "    headers = {\n",
        "        \"Authorization\": f\"Bearer {OPENROUTER_API_KEY}\",\n",
        "        \"Content-Type\": \"application/json\",\n",
        "        \"HTTP-Referer\": \"https://openrouter.ai\",\n",
        "        \"X-Title\": \"RedditPersona\"\n",
        "    }\n",
        "\n",
        "    payload = {\n",
        "        \"model\": \"moonshotai/kimi-k2:free\",\n",
        "        \"messages\": [{\"role\": \"user\", \"content\": prompt}],\n",
        "        \"temperature\": 0.7,\n",
        "        \"max_tokens\": 1000\n",
        "    }\n",
        "\n",
        "    for attempt in range(retries + 1):\n",
        "        try:\n",
        "            response = requests.post(url, headers=headers, json=payload, timeout=60)\n",
        "\n",
        "            if response.status_code == 200:\n",
        "                return response.json()[\"choices\"][0][\"message\"][\"content\"]\n",
        "\n",
        "            elif response.status_code == 408:\n",
        "                print(\"⚠️ Timeout. Retrying...\")\n",
        "                time.sleep(5)\n",
        "\n",
        "            elif response.status_code == 500:\n",
        "                print(\"⚠️ Internal server error. Retrying...\")\n",
        "                time.sleep(5)\n",
        "\n",
        "            elif response.status_code == 401:\n",
        "                print(\"❌ Unauthorized — check API key.\")\n",
        "                print(response.text)\n",
        "                return None\n",
        "\n",
        "            else:\n",
        "                print(f\"❌ Error {response.status_code}\")\n",
        "                print(response.text)\n",
        "                return None\n",
        "\n",
        "        except requests.exceptions.Timeout:\n",
        "            print(\"⚠️ Network timeout — retrying...\")\n",
        "            time.sleep(5)\n",
        "\n",
        "    print(\"❌ Failed after all retries.\")\n",
        "    return None\n"
      ]
    },
    {
      "cell_type": "markdown",
      "source": [
        "Main Execution Pipeline"
      ],
      "metadata": {
        "id": "kYdve0h-NE2l"
      }
    },
    {
      "cell_type": "code",
      "execution_count": 53,
      "metadata": {
        "colab": {
          "base_uri": "https://localhost:8080/"
        },
        "id": "d-y7H_tm4hiZ",
        "outputId": "9b5ece45-69c3-4252-c697-b7835c9cca69"
      },
      "outputs": [
        {
          "name": "stdout",
          "output_type": "stream",
          "text": [
            "Enter Reddit username: _aadee_\n"
          ]
        },
        {
          "output_type": "stream",
          "name": "stderr",
          "text": [
            "WARNING:praw:It appears that you are using PRAW in an asynchronous environment.\n",
            "It is strongly recommended to use Async PRAW: https://asyncpraw.readthedocs.io.\n",
            "See https://praw.readthedocs.io/en/latest/getting_started/multiple_instances.html#discord-bots-and-asynchronous-environments for more info.\n",
            "\n",
            "WARNING:praw:It appears that you are using PRAW in an asynchronous environment.\n",
            "It is strongly recommended to use Async PRAW: https://asyncpraw.readthedocs.io.\n",
            "See https://praw.readthedocs.io/en/latest/getting_started/multiple_instances.html#discord-bots-and-asynchronous-environments for more info.\n",
            "\n"
          ]
        },
        {
          "output_type": "stream",
          "name": "stdout",
          "text": [
            "\n",
            "🎯 Persona Generated:\n",
            "\n",
            "👤 **Name**: **_aadee_**  \n",
            "**Age Range**: 18-24 (college student vibe, “time pass kar lu thoda”)  \n",
            "**Occupation**: Undergraduate / early-career, tech-curious hobbyist  \n",
            "**Status**: Single, lives with parents  \n",
            "**Location**: Himachal Pradesh, India (Shimla & nearby)  \n",
            "**Tier**: Early Adopter (tries guitar, photography, new foods)  \n",
            "**Archetype**: The Mountain Meme Monk – chilled, creative, joke-loving, rooted in the Himalayas.\n",
            "\n",
            "---\n",
            "\n",
            "### 🧭 Personality Sliders\n",
            "\n",
            "- **Introvert ↔ Extrovert**: ▓▓▓░░░░░░ (30%)  \n",
            "  *“Posts infrequently; comments are short jokes or emotes.”*\n",
            "\n",
            "- **Intuition ↔ Sensing**: ▓▓▓▓▓▓░░░ (65%)  \n",
            "  *“Focuses on mood, scenery, and symbolism (tattoo meaning, night lights).”*\n",
            "\n",
            "- **Thinking ↔ Feeling**: ▓▓░░░░░░░ (25%)  \n",
            "  *“Reacts with emojis and heart emotes rather than analysis.”*\n",
            "\n",
            "- **Spontaneous ↔ Planner**: ▓▓▓▓▓░░░░ (55%)  \n",
            "  *“Impulses: ‘bore ho raha tha toh aagya’.”*\n",
            "\n",
            "---\n",
            "\n",
            "### 🎯 Motivations\n",
            "\n",
            "- **Creative Expression** ▓▓▓▓▓▓▓░░ (75%)  \n",
            "  *“Shots I took recently”, OC tag on photography posts.*\n",
            "\n",
            "- **Connection with Nature** ▓▓▓▓▓▓▓▓░ (80%)  \n",
            "  *“बांका मुलका, हिमाचला। तेरी चौटी ऊपर कैलाशौ॥”*\n",
            "\n",
            "- **Skill Mastery (Guitar)** ▓▓▓▓▓░░░░ (50%)  \n",
            "  *“how do i improve my speed and accuracy… HELP”*\n",
            "\n",
            "- **Social Belonging** ▓▓▓▓▓░░░░ (55%)  \n",
            "  *“Koi Uttarakhand se hai yaha? Hemlo guys!”*\n",
            "\n",
            "- **Meme Culture & Humour** ▓▓▓▓▓▓░░░ (60%)  \n",
            "  *“Sab suar hi to hain”, “my keyboard was a simp!!”*\n",
            "\n",
            "---\n",
            "\n",
            "### 🌀 Behaviours & Habits\n",
            "\n",
            "- Shares scenic shots and watch photos → *“Night Lights”, “Found my dad’s old watch”*  \n",
            "- Drops bilingual memes & emojis → *“![img](emote|t5_2qp7h|56591)”*  \n",
            "- Asks for advice from fellow redditors → *“how/what should i Practice to get better?”*  \n",
            "- Spontaneous travel & food pics → *“[i ate] wild berries called Heer locally”*  \n",
            "- Quick, affectionate replies → *“Thankyou. 😇”, “Pluto❤”*\n",
            "\n",
            "---\n",
            "\n",
            "### 😤 Frustrations\n",
            "\n",
            "- Guitar plateau: *“my chord transitions are slow”*  \n",
            "- Summer water shortages in hills: *“summer water shortage is a real thing”*  \n",
            "- Monkeys: *“you have to watch out for monkeys”*  \n",
            "- Boredom: *“Nai vo bore ho raha tha toh aagya..”*\n",
            "\n",
            "---\n",
            "\n",
            "### ✅ Goals & Needs\n",
            "\n",
            "- Speed-up guitar chord changes (step-by-step practice plan)  \n",
            "- Find more Himachal/Uttarakhand subreddit buddies  \n",
            "- Capture & share better night sky photos (learn low-light settings)  \n",
            "- Stay productive during lockdown boredom (new hobbies)\n",
            "\n",
            "---\n",
            "\n",
            "### 💬 Hero Quote\n",
            "> “Oooh damn ! Didn’t know my keyboard was a simp!!”\n",
            "\n",
            "---\n",
            "\n",
            "### 📚 Topics Discussed\n",
            "- Photography (night shots, Himachal landscapes)  \n",
            "- Watches (daily wrist check, vintage pieces)  \n",
            "- Guitar learning & practice tips  \n",
            "- Himachal Pradesh travel & local food (heer berries)  \n",
            "- Memes & lighthearted banter  \n",
            "- Tattoos & symbolism\n",
            "\n",
            "---\n",
            "\n",
            "### 📌 Summary\n",
            "_aadee_ is a laid-back mountain kid who turns boredom into creativity—snapping starscapes, reviving dad’s old watch, and strumming chords slowly but surely. Their Reddit life is 50 % scenic Himachal flex and 50 % meme-fuelled banter, always peppered with heart emojis and “hemlo guys!”\n",
            "\n",
            "✅ Saved to _aadee__persona.txt\n"
          ]
        }
      ],
      "source": [
        "def main():\n",
        "    \"\"\"Execute the persona generation pipeline.\"\"\"\n",
        "    username = input(\"Enter Reddit username: \").strip()\n",
        "    reddit_data = get_reddit_data(username)\n",
        "\n",
        "    if reddit_data:\n",
        "        prompt = build_prompt(username, reddit_data)\n",
        "        persona = generate_persona(prompt)\n",
        "\n",
        "        if persona:\n",
        "            print(\"\\n🎯 Persona Generated:\\n\")\n",
        "            print(persona)\n",
        "\n",
        "            # Optional: save to file\n",
        "            filename = f\"{username}_persona.txt\"\n",
        "            with open(filename, \"w\", encoding=\"utf-8\") as f:\n",
        "                f.write(persona)\n",
        "            print(f\"\\n✅ Saved to {filename}\")\n",
        "        else:\n",
        "            print(\"❌ Persona generation failed.\")\n",
        "    else:\n",
        "        print(\"❌ No Reddit data found.\")\n",
        "\n",
        "\n",
        "if __name__ == \"__main__\":\n",
        "    main()\n"
      ]
    }
  ],
  "metadata": {
    "colab": {
      "provenance": []
    },
    "kernelspec": {
      "display_name": "Python 3",
      "name": "python3"
    },
    "language_info": {
      "name": "python"
    }
  },
  "nbformat": 4,
  "nbformat_minor": 0
}