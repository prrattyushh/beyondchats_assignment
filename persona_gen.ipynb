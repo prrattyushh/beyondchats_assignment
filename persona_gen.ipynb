{
  "cells": [
    {
      "cell_type": "markdown",
      "source": [
        "Setup & Imports"
      ],
      "metadata": {
        "id": "BsY5SKQMLGpT"
      }
    },
    {
      "cell_type": "code",
      "execution_count": 73,
      "metadata": {
        "colab": {
          "base_uri": "https://localhost:8080/"
        },
        "id": "SQ9uwSjy1G8T",
        "outputId": "9476da31-1918-4bba-9615-668b42201d5c"
      },
      "outputs": [
        {
          "output_type": "stream",
          "name": "stdout",
          "text": [
            "Requirement already satisfied: praw in /usr/local/lib/python3.11/dist-packages (7.8.1)\n",
            "Requirement already satisfied: requests in /usr/local/lib/python3.11/dist-packages (2.32.3)\n",
            "Requirement already satisfied: prawcore<3,>=2.4 in /usr/local/lib/python3.11/dist-packages (from praw) (2.4.0)\n",
            "Requirement already satisfied: update_checker>=0.18 in /usr/local/lib/python3.11/dist-packages (from praw) (0.18.0)\n",
            "Requirement already satisfied: websocket-client>=0.54.0 in /usr/local/lib/python3.11/dist-packages (from praw) (1.8.0)\n",
            "Requirement already satisfied: charset-normalizer<4,>=2 in /usr/local/lib/python3.11/dist-packages (from requests) (3.4.2)\n",
            "Requirement already satisfied: idna<4,>=2.5 in /usr/local/lib/python3.11/dist-packages (from requests) (3.10)\n",
            "Requirement already satisfied: urllib3<3,>=1.21.1 in /usr/local/lib/python3.11/dist-packages (from requests) (2.4.0)\n",
            "Requirement already satisfied: certifi>=2017.4.17 in /usr/local/lib/python3.11/dist-packages (from requests) (2025.7.9)\n"
          ]
        }
      ],
      "source": [
        "!pip install praw requests"
      ]
    },
    {
      "cell_type": "markdown",
      "source": [
        " Reddit API Initialization"
      ],
      "metadata": {
        "id": "uUjBxTwsLIgY"
      }
    },
    {
      "cell_type": "code",
      "execution_count": 74,
      "metadata": {
        "id": "Ua9_niyJ1a1h"
      },
      "outputs": [],
      "source": [
        "# OpenRouter API key (replace with yours)\n",
        "OPENROUTER_API_KEY = \"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\"\n",
        "\n",
        "# Reddit API credentials\n",
        "import praw\n",
        "\n",
        "reddit = praw.Reddit(\n",
        "    client_id=\"5uBZvIgTKH5uE_jEJPIUeQ\",\n",
        "    client_secret=\"Tr8C5flzhU81yzryqWT7aL8XOtBxpQ\",\n",
        "    user_agent=\"u/Zealousideal_Wafer84\"\n",
        ")\n"
      ]
    },
    {
      "cell_type": "markdown",
      "source": [
        "Fetch Reddit Posts & Comments"
      ],
      "metadata": {
        "id": "QpAnbXO1LN0P"
      }
    },
    {
      "cell_type": "code",
      "execution_count": 75,
      "metadata": {
        "id": "St0Met9A1gUm"
      },
      "outputs": [],
      "source": [
        "def get_reddit_data(username, limit=30):\n",
        "    try:\n",
        "        user = reddit.redditor(username)\n",
        "        posts = [f\"[POST] {submission.title}\" for submission in user.submissions.new(limit=limit)]\n",
        "        comments = [f\"[COMMENT] {comment.body}\" for comment in user.comments.new(limit=limit)]\n",
        "        return posts + comments\n",
        "    except Exception as e:\n",
        "        print(\"Error fetching Reddit data:\", e)\n",
        "        return []\n"
      ]
    },
    {
      "cell_type": "markdown",
      "source": [
        "Prompt Construction"
      ],
      "metadata": {
        "id": "DX29B8zVLWqh"
      }
    },
    {
      "cell_type": "code",
      "execution_count": 76,
      "metadata": {
        "id": "ayFHS3yM1mWb"
      },
      "outputs": [],
      "source": [
        "def build_prompt(username, reddit_data):\n",
        "    # Join Reddit data and truncate to avoid token overflow\n",
        "    joined_data = \"\\n\".join(reddit_data[:40])[:5000]\n",
        "\n",
        "    prompt = f\"\"\"\n",
        "You are a UX researcher creating user personas from Reddit activity.\n",
        "\n",
        "Format the output to follow this structure and style.\n",
        "Use bullet points and citation quotes to explain each insight.\n",
        "If a fictional name cannot be inferred, default to the Reddit username: **{username}**\n",
        "\n",
        "When presenting sliders (personality, motivations), use **visual bars** made of characters (e.g. ▓▓▓░░░ 60%).\n",
        "\n",
        "---\n",
        "\n",
        "👤 **Name**:\n",
        "real name based on comments. If none can be inferred, use: **{username}**\n",
        "**Age Range**:\n",
        "Estimate from context as close as possible (e.g. student, professional)\n",
        "**Occupation**:\n",
        "Inferred from tech interest, casual tone, or job-related phrases\n",
        "**Status**:\n",
        "(Optional – relationship/family indicators)\n",
        "**Location**:\n",
        "Infer from mentions of place or cultural context (e.g. Himachal, US, India)\n",
        "**Tier**:\n",
        "Early Adopter, Laggard, etc.\n",
        "**Archetype**:\n",
        "(e.g. The Skeptical Optimist, The Meme Monk, The Practical Tinkerer)\n",
        "\n",
        "---\n",
        "\n",
        "### 🧭 Personality Sliders\n",
        "Use visual bars (like ▓ or █) and 0–100% estimates with short justifications. Example:\n",
        "\n",
        "- **Introvert ↔ Extrovert**: ▓▓▓▓░░░░░ (40%)\n",
        "  *\"Posts infrequently and prefers comments to threads.\"*\n",
        "\n",
        "- **Intuition ↔ Sensing**: ▓▓▓▓▓▓▓░░ (70%)\n",
        "  *\"Focuses on ideas, metaphors, and broader meaning.\"*\n",
        "\n",
        "---\n",
        "\n",
        "### 🎯 Motivations\n",
        "Pick 4–6 motivations. For each:\n",
        "- Name\n",
        "- Intensity shown with visual bar (e.g. ▓▓▓▓▓▓░░ 75%)\n",
        "- 1–2 Reddit quotes as evidence\n",
        "\n",
        "---\n",
        "\n",
        "### 🌀 Behaviours & Habits\n",
        "4–6 bullet points, each with a matching quote. Examples:\n",
        "\n",
        "- Shares screenshots of hikes or photos → *“Evening stroll. [4160x2340]”*\n",
        "- Fixes SDK paths, updates Android configs → *“Update: changed ANDROID_HOME…”*\n",
        "\n",
        "---\n",
        "\n",
        "### 😤 Frustrations\n",
        "3–5 frustrations. Include emotional tone + a quote for each.\n",
        "\n",
        "---\n",
        "\n",
        "### ✅ Goals & Needs\n",
        "3–4 forward-facing goals inferred from struggles or desires. No fluff — match with quotes if possible.\n",
        "\n",
        "---\n",
        "\n",
        "### 💬 Hero Quote\n",
        "Choose a humorous, self-aware, or emotional quote from the user that sums them up.\n",
        "Format:\n",
        "> “quote here”\n",
        "\n",
        "---\n",
        "\n",
        "### 📚 Topics Discussed\n",
        "Bullet points of recurring themes (e.g. Memes, Android SDK, Hiking, Java)\n",
        "\n",
        "---\n",
        "\n",
        "### 📌 Summary\n",
        "Conclude with 2–3 lines that summarize who this person is, their vibe, and what stands out.\n",
        "\n",
        "\n",
        "---\n",
        "\n",
        "Reddit content (posts and comments) from user u/{username}:\n",
        "\n",
        "{joined_data}\n",
        "\"\"\"\n",
        "\n",
        "    return prompt\n"
      ]
    },
    {
      "cell_type": "markdown",
      "source": [
        "Generate Persona"
      ],
      "metadata": {
        "id": "TcRXIbErL7-y"
      }
    },
    {
      "cell_type": "code",
      "execution_count": 77,
      "metadata": {
        "id": "7AIJucTm1w-R"
      },
      "outputs": [],
      "source": [
        "import time\n",
        "\n",
        "def generate_persona(prompt, retries=2):\n",
        "    for attempt in range(retries + 1):\n",
        "        try:\n",
        "            response = requests.post(\n",
        "                \"https://openrouter.ai/api/v1/chat/completions\",\n",
        "                headers={\n",
        "                    \"Authorization\": f\"Bearer {OPENROUTER_API_KEY}\",\n",
        "                    \"Content-Type\": \"application/json\",\n",
        "                    \"HTTP-Referer\": \"https://openrouter.ai\",\n",
        "                    \"X-Title\": \"RedditPersona\"\n",
        "                },\n",
        "                json={\n",
        "                    \"model\": \"mistralai/mistral-7b-instruct\",\n",
        "                    \"messages\": [{\"role\": \"user\", \"content\": prompt}],\n",
        "                    \"temperature\": 0.7,\n",
        "                    \"max_tokens\": 1000\n",
        "                },\n",
        "                timeout=60  # seconds\n",
        "            )\n",
        "\n",
        "            if response.status_code == 200:\n",
        "                return response.json()[\"choices\"][0][\"message\"][\"content\"]\n",
        "            elif response.status_code == 408:\n",
        "                print(\"⚠️ Timeout. Retrying...\")\n",
        "                time.sleep(5)\n",
        "            elif response.status_code == 500:\n",
        "                print(\"⚠️ Internal error. Retrying...\")\n",
        "                time.sleep(5)\n",
        "            else:\n",
        "                print(f\"❌ Error {response.status_code}\")\n",
        "                print(response.text)\n",
        "                return None\n",
        "\n",
        "        except requests.exceptions.Timeout:\n",
        "            print(\"⚠️ Network timeout — retrying...\")\n",
        "            time.sleep(5)\n",
        "\n",
        "    print(\"❌ Failed after retries.\")\n",
        "    return None\n"
      ]
    },
    {
      "cell_type": "markdown",
      "source": [
        "Main Execution Pipeline"
      ],
      "metadata": {
        "id": "kYdve0h-NE2l"
      }
    },
    {
      "cell_type": "code",
      "execution_count": 78,
      "metadata": {
        "colab": {
          "base_uri": "https://localhost:8080/"
        },
        "id": "d-y7H_tm4hiZ",
        "outputId": "6d7ae756-9c2c-42fc-a5ac-33b30349c86d"
      },
      "outputs": [
        {
          "output_type": "stream",
          "name": "stdout",
          "text": [
            "Enter Reddit username: StatisticianFine1187\n",
            "\n",
            "🎯 Persona Generated:\n",
            "\n",
            " 👤 **Name**: StatisticianFine1187 (Real name not revealed)\n",
            "**Age Range**: 25-35 (Assuming based on life experiences and tech interest)\n",
            "**Occupation**: Data Analyst or Statistician (Inferred from username)\n",
            "**Status**: Single (No romantic mentions)\n",
            "**Location**: United States (Based on cultural context)\n",
            "**Tier**: Early Adopter\n",
            "**Archetype**: The Bold Explorer\n",
            "\n",
            "---\n",
            "\n",
            "### 🧭 Personality Sliders\n",
            "\n",
            "- **Introvert ↔ Extrovert**: ▓▓▓▓▓▓▓▓ (90%)\n",
            "  *\"StatisticianFine1187 rarely posts content, but engages in comments and discussions.\"*\n",
            "\n",
            "- **Intuition ↔ Sensing**: ▓▓▓▓▓▓▓▓▓▓ (95%)\n",
            "  *\"StatisticianFine1187 frequently shares content related to anime, cosplay, and adult content.\"*\n",
            "\n",
            "---\n",
            "\n",
            "### 🎯 Motivations\n",
            "\n",
            "- **Anime & Cosplay**: ▓▓▓▓▓▓▓▓▓▓ (100%)\n",
            "  - *\"I just copied and pasted info from this site, which seems fairly reputable. Maybe ask the editors?\"*\n",
            "  - *\"What most of us would have used the Geass for.\"*\n",
            "\n",
            "- **Adult Content**: ▓▓▓▓▓▓▓▓▓▓ (100%)\n",
            "  - *\"Kali West quit porn (according to Babepedia)\"*\n",
            "  - *\"Any JAV where the girls are dressed like this?\"*\n",
            "\n",
            "- **Creativity**: ▓▓▓▓▓▓▓▓▓ (90%)\n",
            "  - *\"Kokone Sasaki in \"Hello, My Dolly Girlfriend\" (2013)\"*\n",
            "  - *\"I think the Dellai Twins shoot some of their incesteous stuff here. I wonder how the rules work.\"*\n",
            "\n",
            "---\n",
            "\n",
            "### 🌀 Behaviours & Habits\n",
            "\n",
            "- Shares anime-related content (e.g. cosplay photos, videos, and discussions)\n",
            "- Discusses adult content, such as pornography, adult performers, and their personal lives\n",
            "- References pop culture, including music, movies, and TV shows\n",
            "- Engages in online debates and discussions about various topics\n",
            "\n",
            "---\n",
            "\n",
            "### 💬 Hero Quote\n",
            "> \"If they're fake, they been pretending they're mother and daughter for over 6 years at this point.\"\n",
            "\n",
            "---\n",
            "\n",
            "### 📚 Topics Discussed\n",
            "\n",
            "- Anime & Cosplay\n",
            "- Adult Content\n",
            "- Internet Culture\n",
            "- Pop Culture\n",
            "- Debates & Discussions\n",
            "\n",
            "---\n",
            "\n",
            "### 📌 Summary\n",
            "StatisticianFine1187 is an early adopter and avid explorer of various topics, with a strong interest in anime, cosplay, and adult content. They engage in discussions, debates, and share content related to their interests. Their humour and straightforward nature make them a unique presence on Reddit.\n",
            "\n",
            "✅ Saved to StatisticianFine1187_persona.txt\n"
          ]
        }
      ],
      "source": [
        "username = input(\"Enter Reddit username: \").strip()\n",
        "reddit_data = get_reddit_data(username)\n",
        "\n",
        "if reddit_data:\n",
        "    prompt = build_prompt(username, reddit_data)\n",
        "    persona = generate_persona(prompt)\n",
        "\n",
        "    if persona:\n",
        "        print(\"\\n🎯 Persona Generated:\\n\")\n",
        "        print(persona)\n",
        "\n",
        "        # Optional: save to file\n",
        "        with open(f\"{username}_persona.txt\", \"w\") as f:\n",
        "            f.write(persona)\n",
        "            print(f\"\\n✅ Saved to {username}_persona.txt\")\n",
        "    else:\n",
        "        print(\"❌ Persona generation failed.\")\n",
        "else:\n",
        "    print(\"❌ No Reddit data found.\")\n"
      ]
    }
  ],
  "metadata": {
    "colab": {
      "provenance": []
    },
    "kernelspec": {
      "display_name": "Python 3",
      "name": "python3"
    },
    "language_info": {
      "name": "python"
    }
  },
  "nbformat": 4,
  "nbformat_minor": 0
}